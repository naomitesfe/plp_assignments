# Assignment: Analyzing Data with Pandas & Matplotlib
# Using Iris dataset from UCI ML Repository

# Step 1: Install ucimlrepo (only once)
!pip install ucimlrepo

# Step 2: Import Libraries
import pandas as pd
import matplotlib.pyplot as plt
import seaborn as sns
from ucimlrepo import fetch_ucirepo

# Inline plots in Colab
%matplotlib inline

# Task 1: Load and Explore the Dataset with error handling
try:
    # Fetch Iris dataset
    iris = fetch_ucirepo(id=53)  # Iris dataset ID

    # Convert features and targets to a DataFrame
    X = iris.data.features
    y = iris.data.targets
    df = X.copy()
    df['species'] = y  # Add target column

    print("Dataset loaded successfully ✅")

except Exception as e:
    print("Error loading dataset:", e)
    df = None  # Prevent further errors if dataset fails

# Display first few rows
print("First 5 rows of the dataset:")
display(df.head())

# Dataset info and missing values
print("\nDataset information:")
df.info()

print("\nMissing values per column:")
print(df.isnull().sum())

# Task 2: Basic Data Analysis
# Statistical summary
print("\nStatistical summary of numerical columns:")
display(df.describe())

# Group by species and compute mean for each numerical column
species_group = df.groupby('species').mean()
print("\nMean values by species:")
display(species_group)

# Observations
print("\nObservations:")
print("- Versicolor and Virginica have larger petal sizes than Setosa.")
print("- Sepal length of Setosa is smaller compared to other species.")
print("- There seems to be a positive correlation between sepal length and petal length.")

# Task 3: Data Visualization

sns.set(style="whitegrid")  # Seaborn style

# 1️ Line chart: Sepal length trend across samples
plt.figure(figsize=(8,5))
plt.plot(df.index, df['sepal length'], label='Sepal Length', color='blue')
plt.title('Sepal Length Trend Across Samples')
plt.xlabel('Sample Index')
plt.ylabel('Sepal Length')
plt.legend()
plt.show()

# 2️ Bar chart: Average petal length per species
plt.figure(figsize=(6,5))
sns.barplot(x=species_group.index, y=species_group['petal length'], palette='viridis')
plt.title('Average Petal Length per Species')
plt.xlabel('Species')
plt.ylabel('Petal Length')
plt.show()

# 3️ Histogram: Distribution of petal width
plt.figure(figsize=(6,5))
plt.hist(df['petal width'], bins=15, color='skyblue', edgecolor='black')
plt.title('Distribution of Petal Width')
plt.xlabel('Petal Width')
plt.ylabel('Frequency')
plt.show()

# 4️ Scatter plot: Sepal length vs Petal length by species
plt.figure(figsize=(6,5))
sns.scatterplot(x='sepal length', y='petal length', hue='species', data=df, palette='Set1')
plt.title('Sepal Length vs Petal Length by Species')
plt.xlabel('Sepal Length')
plt.ylabel('Petal Length')
plt.legend(title='Species')
plt.show()

# Finally Print

print("✅ Analysis Complete. Notebook is ready for submission.")
